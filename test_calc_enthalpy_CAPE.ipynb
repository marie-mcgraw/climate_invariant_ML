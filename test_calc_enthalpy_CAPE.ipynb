{
 "cells": [
  {
   "cell_type": "code",
   "execution_count": 1,
   "id": "dbcb6e34",
   "metadata": {},
   "outputs": [],
   "source": [
    "import pandas as pd\n",
    "import matplotlib.pyplot as plt\n",
    "import os\n",
    "import numpy as np\n",
    "import seaborn as sns\n",
    "import sys"
   ]
  },
  {
   "cell_type": "markdown",
   "id": "fc02c8e4",
   "metadata": {},
   "source": [
    "### Constants\n",
    "* $L_v = 2.5 × 10^6 [J-kg^{−1}]$  latent heat of vaporization\n",
    "* $R_d = 287.04 [J-kg^{-1}-K^{-1}]$  gas constant for dry air\n",
    "* $c_v = 718 [J-kg^{-1}-K^{-1}]$  specific heat of dry air at constant volume \n",
    "* $c_p = c_v + R_d [J-kg^{-1}-K^{-1}]$  specific heat of dry air at constant pressure \n",
    "* $c_l = 4190 [J-kg^{-1}-K^{-1}]$ specific heat of liquid water \n",
    "* $e_0 = 611.65 [Pa]$ pressure at triple point\n",
    "* $T_{trip} = 273.16 [K]$ temperature at triple point\n",
    "* $R_v = 461.5 [J-kg^{-1}-K^{-1}]$  gas constant for vapor\n",
    "\n",
    "## Enthalpy-base calculation of potential intensity\n",
    "<i>Note:</i> This is following the introductory material of Rousseau-Rizzi et al. (2022) (doi:https://doi.org/10.1175/JCLI-D-21-0360.1): \n",
    "$$ PI^2_k \\approx \\frac{c_k}{c_d} \\frac{\\left(T_s - T_o\\right)}{T_o} \\left(k^∗_s − k_a\\right), $$\n",
    "\n",
    "where $T_s$ is sea surface temperature and $T_o$ is temperature at the outflow layer. $k$ is moist enthalpy, and $k^*_s - k_a$ is the moist enthalpy difference between the sea surface ($k^∗_s$), and the air surface ($k_a$). Recall that in general,\n",
    "\n",
    "$$ k = c_p\\cdot T + L\\cdot r, $$\n",
    "\n",
    "where $r$ is the water vapor mixing ratio (g/kg). So enthalpy at the sea surface, $k^*_s$, can be calculated, \n",
    "\n",
    "$$k^∗_s = c_p\\cdot T_s + L\\cdot r^∗\\left(T_s\\right),$$\n",
    "\n",
    "where $T_s$ is sea surface temperature. Similarly, enthalpy of the atmosphere above the surface is, \n",
    "\n",
    "$$k_a = c_p\\cdot T_a + L\\cdot r_a.$$\n",
    "\n",
    "\n",
    "We can estimate $r$ as a function of temperature, $T$, and pressure, $p$. We'll use the simplified Paul O'Gorman formulation for now, where we assume no ice and constant $L_v$.  \n",
    "\n",
    "$$e_s = e_0 \\times \\exp{\\frac{L_v}{R_v \\times \\left(\\frac{1.0}{T_{trip}} - \\frac{1.0}{T}\\right)}}$$\n",
    "$$r_s = \\frac{R_d}{R_v}\\times \\frac{e_s}{(p - e_s)}$$\n",
    "\n",
    "So once we can calculate $r$, we can calculate $k$, and thus, we can calculate $PI_k$. \n",
    "\n",
    "## CAPE-based calculation of potential intensity\n",
    "$$ MPI^2_{CAPE} = MPI^2_k + \\left(\\frac{c_k}{c_d}\\right) \\frac{T_s}{T_o} \\left[c_l\\times T_o\\times \\ln{\\left(\\frac{T_o}{T_s}\\right)}\\left(r_s^* - r_b\\right) \\right],$$\n",
    "\n",
    "where $r_b$ is $r$ at boundary layer. If we assume a well-mixed BL, we'll assume $r_b$ and $r_a$ are the same. \n",
    "\n",
    "<b>Assume</b> that $\\frac{c_k}{c_d} \\approx 1$, though this is probably not strictly true."
   ]
  },
  {
   "cell_type": "markdown",
   "id": "c789d6a3",
   "metadata": {},
   "source": [
    "### Calculate k- and CAPE-based MPI"
   ]
  },
  {
   "cell_type": "code",
   "execution_count": 2,
   "id": "6b96c1bb",
   "metadata": {},
   "outputs": [],
   "source": [
    "# Inputs:\n",
    "# Ta: temperature at atmospheric surface (for SHIPS, use T000 as default)\n",
    "# Ts: sea surface temperature (for SHIPS, use RSST as default)\n",
    "# To: temperature at outflow (for SHIPS, use T150 as default)\n",
    "# pa: pressure at atmospheric surface in [Pa] (use 10e5 if we use T000)\n",
    "# ps: pressure at sea surface [Pa] (use MSLP for SHIPS)\n",
    "#\n",
    "# Outputs:\n",
    "# pi_k: enthalpy-based PI calculation\n",
    "# pi_CAPE: CAPE-based PI calculation\n",
    "def calculate_MPI(Ta,Ts,To,pa,ps):\n",
    "    # Thermodynamic constants\n",
    "    Rd = 287.04\n",
    "    Lv = 2.5e6\n",
    "    Rv = 461.5\n",
    "    Ttrip = 273.16\n",
    "    e0 = 611.65\n",
    "    cv = 718\n",
    "    cl = 4190 \n",
    "    cp = cv + Rd\n",
    "    C_to_K = 273.15\n",
    "    # Get saturation vapor pressure and mixing ratio\n",
    "    def calc_es_rs(T,p):\n",
    "        es = e0 * np.exp(Lv/Rv*(1.0/Ttrip - 1.0/T))\n",
    "        rs = Rd/Rv*es/(p - es)\n",
    "        return es,rs\n",
    "    # Get values of enthalpy\n",
    "    def calc_k(T,r):\n",
    "        k = cp*T + Lv*r\n",
    "        return k\n",
    "    # Calculate PI based on enthalpy\n",
    "    def calc_PI(Ts,To,k_s,k_a):\n",
    "        pik2 = ((Ts-To)/To)*(k_s-k_a)\n",
    "        pi = np.sqrt(pik2)\n",
    "        return pi\n",
    "    # Calculate CAPE-based PI\n",
    "    def calc_CAPE_PI(To,Ts,r_s,r_a,pi_k):\n",
    "        term = cl*To*np.log(To/Ts)*(r_s - r_a)\n",
    "        MPI_cape = np.sqrt(pi_k**2 + (Ts/To)*term)\n",
    "        return MPI_cape\n",
    "    # Convert temperatures to Kelvin\n",
    "    Ta = Ta + C_to_K\n",
    "    Ts = Ts + C_to_K\n",
    "    To = To + C_to_K\n",
    "    # Get es,rs\n",
    "    es_a,rs_a = calc_es_rs(Ta,pa)\n",
    "    es_s,rs_s = calc_es_rs(Ts,ps)\n",
    "    # Get k\n",
    "    k_s = calc_k(Ts,rs_s)\n",
    "    k_a = calc_k(Ta,rs_a)\n",
    "    # enthalpy PI\n",
    "    pi_k = calc_PI(Ts,To,k_s,k_a)\n",
    "    # CAPE PI\n",
    "    pi_CAPE = calc_CAPE_PI(To,Ts,rs_s,rs_a,pi_k)\n",
    "    return pi_k,pi_CAPE"
   ]
  },
  {
   "cell_type": "markdown",
   "id": "caff2cfb",
   "metadata": {},
   "source": [
    "### 1. Load preprocessed data"
   ]
  },
  {
   "cell_type": "code",
   "execution_count": 3,
   "id": "772794f4",
   "metadata": {},
   "outputs": [],
   "source": [
    "interp_str = 'INTERP'\n",
    "fname_save = 'DATA/SHIPS_processed_ALL_BASINS_I_scaled_landmask_{interp_str}.csv'.format(interp_str=interp_str)\n",
    "SHIPS_load = pd.read_csv('DATA/SHIPS_file_full_clim_invar.csv')"
   ]
  },
  {
   "cell_type": "code",
   "execution_count": 4,
   "id": "3dcee401",
   "metadata": {},
   "outputs": [],
   "source": [
    "Rd = 287.04\n",
    "Lv = 2.5e6\n",
    "Rv = 461.5\n",
    "Ttrip = 273.16\n",
    "e0 = 611.65\n",
    "cv = 718\n",
    "cl = 4190 \n",
    "cp = cv + Rd\n",
    "C_to_K = 273.15  # factor to convert celsius to kelvin"
   ]
  },
  {
   "cell_type": "markdown",
   "id": "0b9f5d84",
   "metadata": {},
   "source": [
    "For surface air temperature ($T_a$), we'll use the `T000` SHIPS predictor ($T$ at 1000 hPa). This means $p_a$ will be 1000 hPa, or 10e5 Pa. For outflow temperature, $T_o$, we'll use the SHIPS variable `T150`. For sea surface temperature ($T_s$) we'll use `RSST` (for now) and for pressure at sea surface we'll use `MSLP` (multiplied by 100 to convert it from hPa to Pa).   "
   ]
  },
  {
   "cell_type": "code",
   "execution_count": 5,
   "id": "f9295a4d",
   "metadata": {},
   "outputs": [],
   "source": [
    "SHIPS_load['pa'] = 10e5\n",
    "SHIPS_load['ps'] = SHIPS_load['MSLP']*100"
   ]
  },
  {
   "cell_type": "markdown",
   "id": "2fa77339",
   "metadata": {},
   "source": [
    "#### Mask NaNs"
   ]
  },
  {
   "cell_type": "code",
   "execution_count": 6,
   "id": "28477d02",
   "metadata": {},
   "outputs": [],
   "source": [
    "SHIPS_load = SHIPS_load.mask(SHIPS_load == 9999.0)"
   ]
  },
  {
   "cell_type": "markdown",
   "id": "9259c0c5",
   "metadata": {},
   "source": [
    "### Calculate PI"
   ]
  },
  {
   "cell_type": "code",
   "execution_count": 7,
   "id": "ce5cea38",
   "metadata": {},
   "outputs": [
    {
     "name": "stderr",
     "output_type": "stream",
     "text": [
      "/home/mmcgraw/miniconda3/envs/SHIPS/lib/python3.9/site-packages/pandas/core/arraylike.py:358: RuntimeWarning: invalid value encountered in sqrt\n",
      "  result = getattr(ufunc, method)(*inputs, **kwargs)\n"
     ]
    }
   ],
   "source": [
    "PI_en,PI_cape = calculate_MPI(SHIPS_load['T000'],SHIPS_load['RSST'],SHIPS_load['T150'],10e5,SHIPS_load['MSLP']*100)"
   ]
  },
  {
   "cell_type": "code",
   "execution_count": 12,
   "id": "62484b54",
   "metadata": {
    "scrolled": true
   },
   "outputs": [],
   "source": [
    "SHIPS_load['PI_k'] = PI_en\n",
    "SHIPS_load['PI_cape'] = PI_cape\n"
   ]
  },
  {
   "cell_type": "markdown",
   "id": "1b227658",
   "metadata": {},
   "source": [
    "### How well do original SHIPS PI, k-based, and CAPE-based PI correlated? \n",
    "* original: `VMPI`\n",
    "* $k$-based: `PI_k`\n",
    "* CAPE-based: `PI_cape`\n",
    "\n",
    "Look at overall correlation as well as max, min, mean, and median values on a per-storm basis"
   ]
  },
  {
   "cell_type": "code",
   "execution_count": 62,
   "id": "648c6352",
   "metadata": {},
   "outputs": [
    {
     "name": "stdout",
     "output_type": "stream",
     "text": [
      "             VMPI      PI_k  PI_cape\n",
      "VMPI     1.000000  0.927454  0.92658\n",
      "PI_k     0.927454  1.000000  0.99667\n",
      "PI_cape  0.926580  0.996670  1.00000\n"
     ]
    }
   ],
   "source": [
    "corr_mean = SHIPS_load[['VMPI','PI_k','PI_cape']].corr()\n",
    "print(corr_mean)\n",
    "# Get max, min, and mean values of \n",
    "corr_max_storm = SHIPS_load.groupby(['ATCF ID'])[['VMPI','PI_k','PI_cape']].max().corr()\n",
    "corr_min_storm = SHIPS_load.groupby(['ATCF ID'])[['VMPI','PI_k','PI_cape']].min().corr()\n",
    "corr_mean_storm = SHIPS_load.groupby(['ATCF ID'])[['VMPI','PI_k','PI_cape']].mean().corr()\n",
    "corr_med_storm = SHIPS_load.groupby(['ATCF ID'])[['VMPI','PI_k','PI_cape']].median().corr()\n"
   ]
  },
  {
   "cell_type": "code",
   "execution_count": 75,
   "id": "61c500bd",
   "metadata": {
    "scrolled": false
   },
   "outputs": [
    {
     "data": {
      "image/png": "[encoded data removed]",
      "text/plain": [
       "<Figure size 720x720 with 8 Axes>"
      ]
     },
     "metadata": {
      "needs_background": "light"
     },
     "output_type": "display_data"
    }
   ],
   "source": [
    "fig1,((ax1a,ax1b),(ax1c,ax1d)) = plt.subplots(2,2,figsize=(10,10))\n",
    "#\n",
    "sns.heatmap(corr_max_storm,ax=ax1a,cmap='gnuplot_r',vmin=0.9,vmax=1,linewidth=3)\n",
    "ax1a.set_title('Max per storm',fontsize=20)\n",
    "#\n",
    "sns.heatmap(corr_min_storm,ax=ax1b,cmap='gnuplot_r',vmin=0.9,vmax=1,linewidth=3)\n",
    "ax1b.set_title('Min per storm',fontsize=20)\n",
    "#\n",
    "sns.heatmap(corr_mean_storm,ax=ax1c,cmap='gnuplot_r',vmin=0.9,vmax=1,linewidth=3)\n",
    "ax1c.set_title('Mean per storm',fontsize=20)\n",
    "#\n",
    "sns.heatmap(corr_med_storm,ax=ax1d,cmap='gnuplot_r',vmin=0.9,vmax=1,linewidth=3)\n",
    "ax1d.set_title('Median per storm',fontsize=20)\n",
    "#\n",
    "ax1a.tick_params(axis='both',labelsize=14)\n",
    "ax1b.tick_params(axis='both',labelsize=14)\n",
    "ax1c.tick_params(axis='both',labelsize=14)\n",
    "ax1d.tick_params(axis='both',labelsize=14)\n",
    "#\n",
    "fig1.suptitle('Correlations btw standard, $k$-based, and CAPE-based PI calculations with SHIPS data',fontsize=24)\n",
    "fig1.tight_layout()\n"
   ]
  },
  {
   "cell_type": "code",
   "execution_count": null,
   "id": "a0c0c7d3",
   "metadata": {},
   "outputs": [],
   "source": []
  }
 ],
 "metadata": {
  "kernelspec": {
   "display_name": "SHIPS",
   "language": "python",
   "name": "ships"
  },
  "language_info": {
   "codemirror_mode": {
    "name": "ipython",
    "version": 3
   },
   "file_extension": ".py",
   "mimetype": "text/x-python",
   "name": "python",
   "nbconvert_exporter": "python",
   "pygments_lexer": "ipython3",
   "version": "3.9.5"
  }
 },
 "nbformat": 4,
 "nbformat_minor": 5
}
